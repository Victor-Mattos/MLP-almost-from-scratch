{
 "cells": [
  {
   "cell_type": "code",
   "execution_count": 2,
   "metadata": {},
   "outputs": [],
   "source": [
    "import cv2 as cv\n",
    "import numpy as np\n",
    "import matplotlib.pyplot as plt\n",
    "import pickle\n",
    "from linearAlgebra import Matrix\n",
    "import math"
   ]
  },
  {
   "cell_type": "code",
   "execution_count": 43,
   "metadata": {},
   "outputs": [],
   "source": [
    "def normalize(pred):\n",
    "    sum_ = sum(pred[0])\n",
    "    for i in range(len(pred[0])):\n",
    "        pred[0][i] /= sum_\n",
    "    return pred\n",
    "\n",
    "def decode_categorical(pred):\n",
    "    predicted_num = pred[0].index(max(pred[0]))\n",
    "    return f\"The predicted number is {predicted_num} with {pred[0][predicted_num]*100:.2f}% degree of confidence\"\n",
    "\n",
    "def print_confidence_all(pred):\n",
    "    for i in range(len(pred[0])):\n",
    "        print(f\"{i}: {pred[0][i]*100:.2f}% degree of confidence\")"
   ]
  },
  {
   "cell_type": "code",
   "execution_count": 4,
   "metadata": {},
   "outputs": [],
   "source": [
    "model = \"models/mnist_60000_1616_003_30.pkl\"\n",
    "file = open(model, \"rb\")\n",
    "net = pickle.load(file)"
   ]
  },
  {
   "cell_type": "code",
   "execution_count": 5,
   "metadata": {},
   "outputs": [],
   "source": [
    "#Single digit on image\n",
    "\n",
    "def digit_processing(file):\n",
    "    image = cv.imread(file, cv.IMREAD_GRAYSCALE)\n",
    "    image = cv.resize(255 - image, (28, 28))\n",
    "    (thresh, image) = cv.threshold(image, 128, 255, cv.THRESH_BINARY | cv.THRESH_OTSU)\n",
    "    image = image.astype('float32')\n",
    "\n",
    "    while np.sum(image[0]) == 0:\n",
    "        image = image[1:]\n",
    "\n",
    "    while np.sum(image[:,0]) == 0:\n",
    "        image = np.delete(image,0,1)\n",
    "\n",
    "    while np.sum(image[-1]) == 0:\n",
    "        image = image[:-1]\n",
    "\n",
    "    while np.sum(image[:,-1]) == 0:\n",
    "        image = np.delete(image,-1,1)\n",
    "\n",
    "    rows,cols = image.shape\n",
    "\n",
    "    if rows > cols:\n",
    "        factor = 20.0/rows\n",
    "        rows = 20\n",
    "        cols = int(round(cols*factor))\n",
    "        image = cv.resize(image, (cols,rows))\n",
    "    else:\n",
    "        factor = 20.0/cols\n",
    "        cols = 20\n",
    "        rows = int(round(rows*factor))\n",
    "        image = cv.resize(image, (cols, rows))\n",
    "\n",
    "    colsPadding = (int(math.ceil((28-cols)/2.0)), int(math.floor((28-cols)/2.0)))\n",
    "    rowsPadding = (int(math.ceil((28-rows)/2.0)), int(math.floor((28-rows)/2.0)))\n",
    "    image = np.lib.pad(image,(rowsPadding,colsPadding),'constant')\n",
    "    return image, image.reshape(1, 28*28)/255.0"
   ]
  },
  {
   "cell_type": "code",
   "execution_count": 54,
   "metadata": {},
   "outputs": [
    {
     "data": {
      "image/png": "[encoded data removed]",
      "text/plain": [
       "<Figure size 432x288 with 1 Axes>"
      ]
     },
     "metadata": {
      "needs_background": "light"
     },
     "output_type": "display_data"
    },
    {
     "name": "stdout",
     "output_type": "stream",
     "text": [
      "The predicted number is 2 with 93.95% degree of confidence \n",
      "\n",
      "0: 0.02% degree of confidence\n",
      "1: 0.43% degree of confidence\n",
      "2: 93.95% degree of confidence\n",
      "3: 4.10% degree of confidence\n",
      "4: 0.00% degree of confidence\n",
      "5: 0.08% degree of confidence\n",
      "6: 0.05% degree of confidence\n",
      "7: 0.00% degree of confidence\n",
      "8: 1.37% degree of confidence\n",
      "9: 0.00% degree of confidence\n"
     ]
    }
   ],
   "source": [
    "file = \"digits/7_2.png\"\n",
    "image, digit = digit_processing(file)\n",
    "plt.imshow(image)\n",
    "plt.show()\n",
    "\n",
    "predicted = normalize(net.predict(Matrix(digit.tolist())))\n",
    "\n",
    "print(decode_categorical(predicted), '\\n')\n",
    "print_confidence_all(predicted)\n"
   ]
  }
 ],
 "metadata": {
  "kernelspec": {
   "display_name": "Python 3.9.12 ('nn')",
   "language": "python",
   "name": "python3"
  },
  "language_info": {
   "codemirror_mode": {
    "name": "ipython",
    "version": 3
   },
   "file_extension": ".py",
   "mimetype": "text/x-python",
   "name": "python",
   "nbconvert_exporter": "python",
   "pygments_lexer": "ipython3",
   "version": "3.9.12"
  },
  "orig_nbformat": 4,
  "vscode": {
   "interpreter": {
    "hash": "a4787604c9e3000a5271de64a7fdbed2b9f9b29c0728928e630f3c97085962ac"
   }
  }
 },
 "nbformat": 4,
 "nbformat_minor": 2
}
