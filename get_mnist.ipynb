{
 "cells": [
  {
   "cell_type": "code",
   "execution_count": 1,
   "metadata": {},
   "outputs": [],
   "source": [
    "from PIL import Image\n",
    "import os\n",
    "from linearAlgebra import Matrix"
   ]
  },
  {
   "cell_type": "code",
   "execution_count": 12,
   "metadata": {},
   "outputs": [],
   "source": [
    "dataset_folder_test = \"./dataset/mnist_png/testing\"\n",
    "x_test = []\n",
    "y_test = []\n",
    "\n",
    "p_test = 0.01\n",
    "p_train = 0.01\n",
    "\n",
    "for i in range(10):\n",
    "    dir = os.path.join(dataset_folder_test, str(i))\n",
    "    x_test_size_i = len(dir)\n",
    "    count = 0\n",
    "    for j in os.listdir(dir):\n",
    "        image = Image.open(os.path.join(dir, j))\n",
    "        image = image.convert('L')\n",
    "        width, height = image.size\n",
    "        pixel_data = []\n",
    "        for y in range(height):\n",
    "            row_data = []\n",
    "            for x in range(width):\n",
    "                pixel_value = image.getpixel((x, y))\n",
    "                row_data.append(pixel_value)\n",
    "            pixel_data.append(row_data)\n",
    "        # matrix = Matrix(pixel_data)\n",
    "        x_test.append(pixel_data)\n",
    "        y_test.append(i)\n",
    "        count += 1 \n",
    "        if count == round(p_test*x_test_size_i):\n",
    "            break\n",
    "\n",
    "x_test = Matrix(x_test)"
   ]
  },
  {
   "cell_type": "code",
   "execution_count": null,
   "metadata": {},
   "outputs": [],
   "source": [
    "dataset_folder_train = \"./dataset/mnist_png/train\"\n",
    "x_train = []\n",
    "y_train = []\n",
    "\n",
    "for i in range(10):\n",
    "    dir = os.path.join(dataset_folder_train, str(i))\n",
    "    x_test_size_i = len(dir)\n",
    "    count = 0\n",
    "    for j in os.listdir(dir):\n",
    "        image = Image.open(os.path.join(dir, j))\n",
    "        image = image.convert('L')\n",
    "        width, height = image.size\n",
    "        pixel_data = []\n",
    "        for y in range(height):\n",
    "            row_data = []\n",
    "            for x in range(width):\n",
    "                pixel_value = image.getpixel((x, y))\n",
    "                row_data.append(pixel_value)\n",
    "            pixel_data.append(row_data)\n",
    "        # matrix = Matrix(pixel_data)\n",
    "        x_test.append(pixel_data)\n",
    "        y_test.append(i)\n",
    "        count += 1 \n",
    "        if count == round(p_test*x_test_size_i):\n",
    "            break\n",
    "\n",
    "x_test = Matrix(x_test)"
   ]
  },
  {
   "cell_type": "code",
   "execution_count": 22,
   "metadata": {},
   "outputs": [],
   "source": [
    "def read_dataset(mode:str, p: float):\n",
    "    dataset_folder = os.path.join(\"./dataset/mnist_png\", mode)\n",
    "    x = []\n",
    "    y = []\n",
    "\n",
    "    for i in range(2):\n",
    "        dir = os.path.join(dataset_folder, str(i))\n",
    "        print(dir)\n",
    "        x_size_i = len(dir)\n",
    "        count = 0\n",
    "        selected_images = round(p*x_size_i)\n",
    "        for j in os.listdir(dir):\n",
    "            image = Image.open(os.path.join(dir, j))\n",
    "            image = image.convert('L')\n",
    "            width, height = image.size\n",
    "            pixel_data = []\n",
    "            for h in range(height):\n",
    "                row_data = []\n",
    "                for w in range(width):\n",
    "                    pixel_value = image.getpixel((w, h))\n",
    "                    row_data.append(pixel_value)\n",
    "                pixel_data.append(row_data)\n",
    "            x.append(pixel_data)\n",
    "            y.append(i)\n",
    "            count += 1 \n",
    "            if count == selected_images:\n",
    "                break\n",
    "        print(x_size_i)\n",
    "    return x, y"
   ]
  },
  {
   "cell_type": "code",
   "execution_count": 13,
   "metadata": {},
   "outputs": [
    {
     "data": {
      "text/plain": [
       "10"
      ]
     },
     "execution_count": 13,
     "metadata": {},
     "output_type": "execute_result"
    }
   ],
   "source": [
    "round(0.01*980)"
   ]
  },
  {
   "cell_type": "code",
   "execution_count": 36,
   "metadata": {},
   "outputs": [
    {
     "data": {
      "text/plain": [
       "21.15"
      ]
     },
     "execution_count": 36,
     "metadata": {},
     "output_type": "execute_result"
    }
   ],
   "source": [
    "0.01*980 + 0.01*1135"
   ]
  },
  {
   "cell_type": "code",
   "execution_count": 23,
   "metadata": {},
   "outputs": [
    {
     "name": "stdout",
     "output_type": "stream",
     "text": [
      "./dataset/mnist_png/testing/0\n",
      "29\n",
      "980\n",
      "./dataset/mnist_png/testing/1\n",
      "29\n",
      "1135\n"
     ]
    }
   ],
   "source": [
    "a, y = read_dataset(\"testing\")"
   ]
  },
  {
   "cell_type": "code",
   "execution_count": 25,
   "metadata": {},
   "outputs": [
    {
     "name": "stdout",
     "output_type": "stream",
     "text": [
      "./dataset/mnist_png/testing/0\n",
      "./dataset/mnist_png/testing/1\n"
     ]
    }
   ],
   "source": [
    "from PIL import Image\n",
    "import os\n",
    "from linearAlgebra import Matrix\n",
    "\n",
    "def read_dataset(mode:str, p: float):\n",
    "    dataset_folder = os.path.join(\"./dataset/mnist_png\", mode)\n",
    "    x = []\n",
    "    y = []\n",
    "    \n",
    "    for i in range(2):\n",
    "        dir = os.path.join(dataset_folder, str(i))\n",
    "        print(dir)\n",
    "        x_size_i = len(os.listdir(dir))\n",
    "        count = 0\n",
    "        selected_images = round(p*x_size_i)\n",
    "        for j in os.listdir(dir):\n",
    "            image = Image.open(os.path.join(dir, j))\n",
    "            image = image.convert('L')\n",
    "            width, height = image.size\n",
    "            pixel_data = []\n",
    "            for h in range(height):\n",
    "                row_data = []\n",
    "                for w in range(width):\n",
    "                    pixel_value = image.getpixel((w, h))\n",
    "                    row_data.append(pixel_value)\n",
    "                pixel_data.append(row_data)\n",
    "            x.append(pixel_data)\n",
    "            y.append(i)\n",
    "            count += 1 \n",
    "            if count == selected_images:\n",
    "                break\n",
    "    return x, y\n",
    "\n",
    "x, y = read_dataset(\"testing\", 0.01)\n"
   ]
  },
  {
   "cell_type": "code",
   "execution_count": 29,
   "metadata": {},
   "outputs": [
    {
     "data": {
      "text/plain": [
       "21"
      ]
     },
     "execution_count": 29,
     "metadata": {},
     "output_type": "execute_result"
    }
   ],
   "source": [
    "len(y)"
   ]
  }
 ],
 "metadata": {
  "kernelspec": {
   "display_name": "mlp",
   "language": "python",
   "name": "python3"
  },
  "language_info": {
   "codemirror_mode": {
    "name": "ipython",
    "version": 3
   },
   "file_extension": ".py",
   "mimetype": "text/x-python",
   "name": "python",
   "nbconvert_exporter": "python",
   "pygments_lexer": "ipython3",
   "version": "3.10.9"
  },
  "orig_nbformat": 4,
  "vscode": {
   "interpreter": {
    "hash": "f8e6c7d0c4393eea67de86e33b84b4cc187bde7f3f50b39e8b82a8e04dd85d6a"
   }
  }
 },
 "nbformat": 4,
 "nbformat_minor": 2
}
